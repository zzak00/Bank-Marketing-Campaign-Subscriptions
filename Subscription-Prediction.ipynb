{
 "cells": [
  {
   "cell_type": "code",
   "execution_count": 14,
   "metadata": {
    "colab": {
     "base_uri": "https://localhost:8080/",
     "height": 52
    },
    "id": "zCknKg3sxE6m",
    "outputId": "d4f255fa-10c6-479c-bbdf-71312de493f9"
   },
   "outputs": [
    {
     "data": {
      "text/plain": [
       "<Figure size 1080x360 with 0 Axes>"
      ]
     },
     "metadata": {},
     "output_type": "display_data"
    }
   ],
   "source": [
    "import pandas as pd\n",
    "import numpy as np\n",
    "import seaborn as sns\n",
    "import matplotlib.pyplot as plt\n",
    "plt.figure(figsize=(15,5))\n",
    "import numpy as np # linear algebra\n",
    "import pandas as pd # data processing, CSV file I/O (e.g. pd.read_csv)\n",
    "import seaborn as sns\n",
    "import matplotlib.pyplot as plt\n",
    "import altair as alt\n",
    "import os\n",
    "from sklearn.metrics import roc_auc_score, accuracy_score, precision_score, recall_score\n",
    "import pandas\n",
    "from sklearn.metrics import classification_report\n",
    "from sklearn.model_selection import train_test_split\n",
    "from sklearn.neighbors import KNeighborsClassifier \n",
    "from sklearn.datasets import load_iris\n",
    "from sklearn.tree import DecisionTreeClassifier\n",
    "from sklearn.model_selection import train_test_split\n",
    "from sklearn.metrics import confusion_matrix\n",
    "from sklearn.tree import export_graphviz\n",
    "from six import StringIO \n",
    "from IPython.display import Image \n",
    "from pydot import graph_from_dot_data\n",
    "import pandas as pd\n",
    "import numpy as np\n",
    "from sklearn.neural_network import MLPClassifier\n",
    "import pandas\n",
    "import matplotlib.pyplot as plt\n",
    "from sklearn import model_selection\n",
    "from sklearn.linear_model import LogisticRegression\n",
    "from sklearn.tree import DecisionTreeClassifier\n",
    "from sklearn.neighbors import KNeighborsClassifier\n",
    "from sklearn.discriminant_analysis import LinearDiscriminantAnalysis\n",
    "from sklearn.naive_bayes import GaussianNB\n",
    "from sklearn.svm import SVC\n",
    "from sklearn import svm\n",
    "from sklearn import model_selection\n"
   ]
  },
  {
   "cell_type": "code",
   "execution_count": 5,
   "metadata": {},
   "outputs": [],
   "source": [
    "import sys  \n",
    "sys.path.insert(0, 'Bank-Marketing-Campaign-Subscriptions')\n",
    "import data_cleaning as dc"
   ]
  },
  {
   "cell_type": "code",
   "execution_count": 2,
   "metadata": {
    "id": "0svd1VDhxhS0"
   },
   "outputs": [],
   "source": [
    "df=pd.read_csv('Bank_Campaign.csv', sep=';')"
   ]
  },
  {
   "cell_type": "markdown",
   "metadata": {},
   "source": [
    "# Data"
   ]
  },
  {
   "cell_type": "code",
   "execution_count": 7,
   "metadata": {},
   "outputs": [
    {
     "name": "stdout",
     "output_type": "stream",
     "text": [
      "There are 41188 rows and 21 columns.\n",
      "There are 48281 missing values.\n"
     ]
    }
   ],
   "source": [
    "print(f\"There are {df.shape[0]} rows and {df.shape[1]} columns.\")\n",
    "print(f\"There are {df.isna().sum().sum()} missing values.\")"
   ]
  },
  {
   "cell_type": "code",
   "execution_count": 8,
   "metadata": {},
   "outputs": [
    {
     "data": {
      "text/plain": [
       "age                   0\n",
       "job                 330\n",
       "marital              80\n",
       "education          1731\n",
       "default            8597\n",
       "housing             990\n",
       "loan                990\n",
       "contact               0\n",
       "month                 0\n",
       "day_of_week           0\n",
       "duration              0\n",
       "campaign              0\n",
       "pdays                 0\n",
       "previous              0\n",
       "poutcome          35563\n",
       "emp.var.rate          0\n",
       "cons.price.idx        0\n",
       "cons.conf.idx         0\n",
       "euribor3m             0\n",
       "nr.employed           0\n",
       "subscribed            0\n",
       "dtype: int64"
      ]
     },
     "execution_count": 8,
     "metadata": {},
     "output_type": "execute_result"
    }
   ],
   "source": [
    "df.isna().sum()"
   ]
  },
  {
   "cell_type": "code",
   "execution_count": 9,
   "metadata": {},
   "outputs": [
    {
     "data": {
      "text/plain": [
       "job            0.8%\n",
       "marital       0.19%\n",
       "education      4.2%\n",
       "default      20.87%\n",
       "housing        2.4%\n",
       "loan           2.4%\n",
       "poutcome     86.34%\n",
       "dtype: object"
      ]
     },
     "execution_count": 9,
     "metadata": {},
     "output_type": "execute_result"
    }
   ],
   "source": [
    "(df.isna().sum()[df.isna().sum() > 0] / df.shape[0] * 100).apply(lambda x: f\"{round(x, 2)}%\")"
   ]
  },
  {
   "cell_type": "code",
   "execution_count": 10,
   "metadata": {},
   "outputs": [
    {
     "data": {
      "text/plain": [
       "no     88.7%\n",
       "yes    11.3%\n",
       "Name: subscribed, dtype: object"
      ]
     },
     "execution_count": 10,
     "metadata": {},
     "output_type": "execute_result"
    }
   ],
   "source": [
    "TARGET = 'subscribed'\n",
    "\n",
    "(df[TARGET].value_counts() / df.shape[0] * 100).apply(lambda x: f\"{round(x, 1)}%\")"
   ]
  },
  {
   "cell_type": "code",
   "execution_count": 11,
   "metadata": {},
   "outputs": [
    {
     "name": "stderr",
     "output_type": "stream",
     "text": [
      "C:\\Users\\ismail\\anaconda3\\lib\\site-packages\\seaborn\\_decorators.py:43: FutureWarning: Pass the following variable as a keyword arg: x. From version 0.12, the only valid positional argument will be `data`, and passing other arguments without an explicit keyword will result in an error or misinterpretation.\n",
      "  FutureWarning\n"
     ]
    },
    {
     "name": "stdout",
     "output_type": "stream",
     "text": [
      "Number of yes  88.73458288821988 %\n",
      "Number of no :  11.265417111780131 %\n"
     ]
    },
    {
     "data": {
      "image/png": "[encoded data removed]",
      "text/plain": [
       "<Figure size 432x288 with 1 Axes>"
      ]
     },
     "metadata": {
      "needs_background": "light"
     },
     "output_type": "display_data"
    }
   ],
   "source": [
    "TARGET = 'subscribed'\n",
    "(df[TARGET].value_counts() / df.shape[0] * 100).apply(lambda x: f\"{round(x, 1)}%\")\n",
    "y=df.subscribed\n",
    "ax = sns.countplot(y,label=\"Count\")       \n",
    "YES, NON = y.value_counts()\n",
    "print('Number of yes ',YES/(YES+NON)*100,'%')\n",
    "print('Number of no : ',NON/(NON+YES)*100,'%')"
   ]
  },
  {
   "cell_type": "code",
   "execution_count": 12,
   "metadata": {},
   "outputs": [],
   "source": [
    "numericals = df.dtypes[df.dtypes != 'O'].index.tolist()"
   ]
  },
  {
   "cell_type": "code",
   "execution_count": 13,
   "metadata": {},
   "outputs": [
    {
     "name": "stderr",
     "output_type": "stream",
     "text": [
      "C:\\Users\\ismail\\anaconda3\\lib\\site-packages\\seaborn\\distributions.py:2557: FutureWarning: `distplot` is a deprecated function and will be removed in a future version. Please adapt your code to use either `displot` (a figure-level function with similar flexibility) or `histplot` (an axes-level function for histograms).\n",
      "  warnings.warn(msg, FutureWarning)\n",
      "C:\\Users\\ismail\\anaconda3\\lib\\site-packages\\seaborn\\distributions.py:2557: FutureWarning: `distplot` is a deprecated function and will be removed in a future version. Please adapt your code to use either `displot` (a figure-level function with similar flexibility) or `histplot` (an axes-level function for histograms).\n",
      "  warnings.warn(msg, FutureWarning)\n",
      "C:\\Users\\ismail\\anaconda3\\lib\\site-packages\\seaborn\\distributions.py:2557: FutureWarning: `distplot` is a deprecated function and will be removed in a future version. Please adapt your code to use either `displot` (a figure-level function with similar flexibility) or `histplot` (an axes-level function for histograms).\n",
      "  warnings.warn(msg, FutureWarning)\n",
      "C:\\Users\\ismail\\anaconda3\\lib\\site-packages\\seaborn\\distributions.py:2557: FutureWarning: `distplot` is a deprecated function and will be removed in a future version. Please adapt your code to use either `displot` (a figure-level function with similar flexibility) or `histplot` (an axes-level function for histograms).\n",
      "  warnings.warn(msg, FutureWarning)\n",
      "C:\\Users\\ismail\\anaconda3\\lib\\site-packages\\seaborn\\distributions.py:2557: FutureWarning: `distplot` is a deprecated function and will be removed in a future version. Please adapt your code to use either `displot` (a figure-level function with similar flexibility) or `histplot` (an axes-level function for histograms).\n",
      "  warnings.warn(msg, FutureWarning)\n",
      "C:\\Users\\ismail\\anaconda3\\lib\\site-packages\\seaborn\\distributions.py:2557: FutureWarning: `distplot` is a deprecated function and will be removed in a future version. Please adapt your code to use either `displot` (a figure-level function with similar flexibility) or `histplot` (an axes-level function for histograms).\n",
      "  warnings.warn(msg, FutureWarning)\n"
     ]
    },
    {
     "data": {
      "image/png": "[encoded data removed]",
      "text/plain": [
       "<Figure size 1584x1152 with 6 Axes>"
      ]
     },
     "metadata": {
      "needs_background": "light"
     },
     "output_type": "display_data"
    }
   ],
   "source": [
    "fig, ax = plt.subplots(2, 3, figsize=(22, 16))\n",
    "sns.distplot(df['age'], ax=ax[0][0])\n",
    "sns.distplot(df['duration'], ax=ax[0][1])\n",
    "sns.distplot(df['campaign'], ax=ax[0][2])\n",
    "sns.distplot(df['emp.var.rate'], ax=ax[1][0])\n",
    "sns.distplot(df['cons.price.idx'], ax=ax[1][1])\n",
    "sns.distplot(df['euribor3m'], ax=ax[1][2])\n",
    "plt.show()\n"
   ]
  },
  {
   "cell_type": "code",
   "execution_count": 15,
   "metadata": {},
   "outputs": [
    {
     "data": {
      "text/plain": [
       "<matplotlib.axes._subplots.AxesSubplot at 0x177cb7faf88>"
      ]
     },
     "execution_count": 15,
     "metadata": {},
     "output_type": "execute_result"
    },
    {
     "data": {
      "image/png": "[encoded data removed]",
      "text/plain": [
       "<Figure size 720x720 with 2 Axes>"
      ]
     },
     "metadata": {
      "needs_background": "light"
     },
     "output_type": "display_data"
    }
   ],
   "source": [
    "f,ax = plt.subplots(figsize=(10,10))\n",
    "sns.heatmap(df.corr(), annot=True, linewidths=.5, fmt= '.1f',ax=ax)"
   ]
  },
  {
   "cell_type": "code",
   "execution_count": 16,
   "metadata": {
    "scrolled": false
   },
   "outputs": [
    {
     "data": {
      "image/png": "[encoded data removed]",
      "text/plain": [
       "<Figure size 1080x1080 with 12 Axes>"
      ]
     },
     "metadata": {
      "needs_background": "light"
     },
     "output_type": "display_data"
    }
   ],
   "source": [
    "fig, ax = plt.subplots(4, 3, figsize=(15, 15))\n",
    "sns.countplot(x=df['job'], ax=ax[0][0])\n",
    "ax[0][0].tick_params(labelrotation=30)\n",
    "sns.countplot(x=df['marital'], ax=ax[0][1])\n",
    "sns.countplot(x=df['education'], ax=ax[0][2])\n",
    "ax[0][2].tick_params(labelrotation=75)\n",
    "sns.countplot(x=df['default'], ax=ax[1][0])\n",
    "sns.countplot(x=df['housing'], ax=ax[1][1])\n",
    "sns.countplot(x=df['loan'], ax=ax[1][2])\n",
    "sns.countplot(x=df['contact'], ax=ax[2][0])\n",
    "sns.countplot(x=df['month'], ax=ax[2][1])\n",
    "sns.countplot(x=df['day_of_week'], ax=ax[2][2])\n",
    "sns.countplot(x=df['poutcome'], ax=ax[3][0])\n",
    "sns.countplot(x=df['subscribed'], ax=ax[3][1])\n",
    "plt.show()\n"
   ]
  },
  {
   "cell_type": "code",
   "execution_count": 17,
   "metadata": {},
   "outputs": [
    {
     "data": {
      "text/plain": [
       "(array([0, 1, 2, 3, 4, 5, 6, 7, 8, 9]), <a list of 10 Text xticklabel objects>)"
      ]
     },
     "execution_count": 17,
     "metadata": {},
     "output_type": "execute_result"
    },
    {
     "data": {
      "image/png": "[encoded data removed]",
      "text/plain": [
       "<Figure size 720x360 with 1 Axes>"
      ]
     },
     "metadata": {
      "needs_background": "light"
     },
     "output_type": "display_data"
    }
   ],
   "source": [
    "plt.figure(figsize=(10,5))\n",
    "sns.boxplot(data=df)\n",
    "plt.xticks(rotation=90)"
   ]
  },
  {
   "cell_type": "markdown",
   "metadata": {},
   "source": [
    "# PREPROCESSING"
   ]
  },
  {
   "cell_type": "code",
   "execution_count": 6,
   "metadata": {
    "id": "M3BgCdxvyFRz"
   },
   "outputs": [],
   "source": [
    "df=dc.replaceWNAN(df,['unknown','nonexistent'])"
   ]
  },
  {
   "cell_type": "code",
   "execution_count": 142,
   "metadata": {},
   "outputs": [
    {
     "data": {
      "text/plain": [
       "(41188, 21)"
      ]
     },
     "execution_count": 142,
     "metadata": {},
     "output_type": "execute_result"
    }
   ],
   "source": [
    "df.shape"
   ]
  },
  {
   "cell_type": "code",
   "execution_count": 143,
   "metadata": {},
   "outputs": [
    {
     "name": "stdout",
     "output_type": "stream",
     "text": [
      "Number of yes  88.73458288821988 %\n",
      "Number of no :  11.265417111780131 %\n"
     ]
    },
    {
     "data": {
      "image/png": "[encoded data removed]",
      "text/plain": [
       "<Figure size 432x288 with 1 Axes>"
      ]
     },
     "metadata": {},
     "output_type": "display_data"
    }
   ],
   "source": [
    "df['subscribed'].value_counts().plot(kind='bar')\n",
    "YES, NON = df['subscribed'].value_counts()\n",
    "print('Number of yes ',YES/(YES+NON)*100,'%')\n",
    "print('Number of no : ',NON/(NON+YES)*100,'%')"
   ]
  },
  {
   "cell_type": "code",
   "execution_count": 144,
   "metadata": {
    "id": "rWTg5xfmzl_L"
   },
   "outputs": [],
   "source": [
    "#delete rows from a feature with at most 1731\n",
    "df.drop(df[df['job'].isna()].index, inplace = True)\n",
    "df.drop(df[df['marital'].isna()].index, inplace = True)\n",
    "df.drop(df[df['education'].isna()].index, inplace = True)\n",
    "df.drop(df[df['housing'].isna()].index, inplace = True)\n",
    "df.drop(df[df['loan'].isna()].index, inplace = True)\n",
    "df.drop('poutcome',axis=1,inplace=True)\n",
    "df.drop('month',axis=1,inplace=True)\n",
    "df.drop('day_of_week',axis=1,inplace=True)"
   ]
  },
  {
   "cell_type": "code",
   "execution_count": null,
   "metadata": {
    "id": "7_6lO8mX0WD4"
   },
   "outputs": [],
   "source": [
    "df=df.replace('yes',1)\n",
    "df=df.replace('no',0)\n",
    "df=df.replace('cellular',1)\n",
    "df=df.replace('telephone',0)\n",
    "#df=df.replace('success',1)\n",
    "#df=df.replace('failure',0)\n",
    "#extract categorical and numerical features\n",
    "cat_col,num_col=dc.extract_features_type(df)"
   ]
  },
  {
   "cell_type": "code",
   "execution_count": null,
   "metadata": {
    "id": "V85cLCihCX7m"
   },
   "outputs": [],
   "source": [
    "#categorical features encoding\n",
    "## Nominal data -- onehot\n",
    "## Ordinal data -- labelencoder"
   ]
  },
  {
   "cell_type": "code",
   "execution_count": null,
   "metadata": {
    "id": "UaZmBScLmfKU"
   },
   "outputs": [],
   "source": [
    "# one hot encoding categorical variables\n",
    "cat_col.remove('education')\n",
    "df=dc.one_hot_encoding(df,cat_col)"
   ]
  },
  {
   "cell_type": "code",
   "execution_count": null,
   "metadata": {},
   "outputs": [],
   "source": [
    "from sklearn.preprocessing import LabelEncoder\n",
    "education_level={'illiterate':0,'basic.4y':1, 'basic.6y':2,'basic.9y':3, 'high.school':4,'professional.course':5, 'university.degree':6}\n",
    "df.education.replace(education_level,inplace=True)"
   ]
  },
  {
   "cell_type": "code",
   "execution_count": null,
   "metadata": {},
   "outputs": [],
   "source": [
    "df=dc.knn_imput(df,5)"
   ]
  },
  {
   "cell_type": "code",
   "execution_count": null,
   "metadata": {
    "id": "3VkRIkNPwOxM"
   },
   "outputs": [],
   "source": [
    "# handling outliers"
   ]
  },
  {
   "cell_type": "code",
   "execution_count": null,
   "metadata": {
    "id": "BIAFY41tmg9t"
   },
   "outputs": [],
   "source": [
    "def plot(df,col):\n",
    "    fig,(ax1,ax2)=plt.subplots(2,1)\n",
    "    sns.distplot(df[col],ax=ax1)\n",
    "    sns.boxplot(df[col],ax=ax2)"
   ]
  },
  {
   "cell_type": "code",
   "execution_count": null,
   "metadata": {
    "colab": {
     "base_uri": "https://localhost:8080/",
     "height": 369
    },
    "id": "OPc42A1dmi2p",
    "outputId": "074a7531-e563-4440-d4a3-c6f18e935391"
   },
   "outputs": [],
   "source": [
    "plot(df,'age') "
   ]
  },
  {
   "cell_type": "code",
   "execution_count": null,
   "metadata": {
    "id": "PCwRYRtgxK9S"
   },
   "outputs": [],
   "source": [
    "df.drop(df[df['age'] > 90].index, inplace = True)\n",
    "df.drop(df[df['duration']>3000].index, inplace = True)\n",
    "df.drop(df[df['campaign']>20].index, inplace = True)\n",
    "df.drop(df[df['previous']>6].index, inplace = True)"
   ]
  },
  {
   "cell_type": "code",
   "execution_count": null,
   "metadata": {},
   "outputs": [],
   "source": [
    "#df.to_csv (r'clean_DS.csv', index = False, header=True)"
   ]
  },
  {
   "cell_type": "markdown",
   "metadata": {},
   "source": [
    "# DATA NORMALISATION"
   ]
  },
  {
   "cell_type": "code",
   "execution_count": 1,
   "metadata": {},
   "outputs": [],
   "source": [
    "import sys  \n",
    "sys.path.insert(0, 'Bank-Marketing-Campaign-Subscriptions')\n",
    "import data_cleaning as dc\n",
    "\n",
    "sys.path.insert(0, 'Bank-Marketing-Campaign-Subscriptions')\n",
    "import data_reduction as dr\n",
    "\n",
    "sys.path.insert(0, 'Bank-Marketing-Campaign-Subscriptions')\n",
    "import data_classification as dc\n",
    "\n",
    "import pandas as pd\n",
    "df=pd.read_csv('clean_DS.csv')"
   ]
  },
  {
   "cell_type": "code",
   "execution_count": 2,
   "metadata": {},
   "outputs": [],
   "source": [
    "from sklearn.preprocessing import MinMaxScaler\n",
    "scaler = MinMaxScaler(feature_range=(0, 1))\n",
    "df = pd.DataFrame(scaler.fit_transform(df), columns=df.columns)"
   ]
  },
  {
   "cell_type": "markdown",
   "metadata": {},
   "source": [
    "# FEATURE SELECTION"
   ]
  },
  {
   "cell_type": "code",
   "execution_count": 3,
   "metadata": {},
   "outputs": [],
   "source": [
    "#create X matrix and y vector\n",
    "y = df['subscribed']\n",
    "df.drop('subscribed',axis=1,inplace=True)\n",
    "X=df"
   ]
  },
  {
   "cell_type": "code",
   "execution_count": 4,
   "metadata": {},
   "outputs": [],
   "source": [
    "anova_subset=dr.ANOVA(df,X,y)"
   ]
  },
  {
   "cell_type": "code",
   "execution_count": 6,
   "metadata": {},
   "outputs": [],
   "source": [
    "rf_subset=dr.RF(X,y)"
   ]
  },
  {
   "cell_type": "code",
   "execution_count": 7,
   "metadata": {
    "id": "oCDvmQT2EJ3L"
   },
   "outputs": [],
   "source": [
    "mi_subset=dr.MI(X,y,27)"
   ]
  },
  {
   "cell_type": "code",
   "execution_count": 8,
   "metadata": {},
   "outputs": [
    {
     "data": {
      "text/plain": [
       "['duration',\n",
       " 'nr.employed',\n",
       " 'pdays',\n",
       " 'euribor3m',\n",
       " 'emp.var.rate',\n",
       " 'previous',\n",
       " 'contact',\n",
       " 'cons.price.idx',\n",
       " 'student',\n",
       " 'retired',\n",
       " 'blue-collar',\n",
       " 'education',\n",
       " 'single',\n",
       " 'campaign',\n",
       " 'married',\n",
       " 'cons.conf.idx',\n",
       " 'services',\n",
       " 'loan',\n",
       " 'housemaid',\n",
       " 'housing',\n",
       " 'entrepreneur',\n",
       " 'management',\n",
       " 'age',\n",
       " 'technician',\n",
       " 'default',\n",
       " 'unemployed',\n",
       " 'self-employed']"
      ]
     },
     "execution_count": 8,
     "metadata": {},
     "output_type": "execute_result"
    }
   ],
   "source": [
    "anova_subset"
   ]
  },
  {
   "cell_type": "code",
   "execution_count": 9,
   "metadata": {},
   "outputs": [
    {
     "data": {
      "text/plain": [
       "Index(['age', 'education', 'duration', 'campaign', 'pdays', 'cons.conf.idx',\n",
       "       'euribor3m', 'nr.employed'],\n",
       "      dtype='object')"
      ]
     },
     "execution_count": 9,
     "metadata": {},
     "output_type": "execute_result"
    }
   ],
   "source": [
    "rf_subset"
   ]
  },
  {
   "cell_type": "code",
   "execution_count": 10,
   "metadata": {},
   "outputs": [
    {
     "data": {
      "text/plain": [
       "Index(['duration', 'euribor3m', 'cons.price.idx', 'cons.conf.idx',\n",
       "       'nr.employed', 'emp.var.rate', 'pdays', 'previous', 'contact', 'age',\n",
       "       'blue-collar', 'student', 'married', 'education', 'single', 'campaign',\n",
       "       'housing', 'default', 'management', 'housemaid', 'entrepreneur', 'loan',\n",
       "       'retired', 'self-employed', 'services', 'technician', 'unemployed'],\n",
       "      dtype='object')"
      ]
     },
     "execution_count": 10,
     "metadata": {},
     "output_type": "execute_result"
    }
   ],
   "source": [
    "mi_subset"
   ]
  },
  {
   "cell_type": "code",
   "execution_count": 11,
   "metadata": {},
   "outputs": [],
   "source": [
    "def inter(a,b,c):\n",
    "    return list(set(a) & (set(b) | set(c)))"
   ]
  },
  {
   "cell_type": "code",
   "execution_count": 12,
   "metadata": {},
   "outputs": [],
   "source": [
    "#intersection de tous les subsets\n",
    "inters=inter(anova_subset[:14],rf_subset,mi_subset[:14])"
   ]
  },
  {
   "cell_type": "code",
   "execution_count": 13,
   "metadata": {},
   "outputs": [],
   "source": [
    "def set_p(s,p):\n",
    "    return s[: int(p*len(s))]"
   ]
  },
  {
   "cell_type": "markdown",
   "metadata": {},
   "source": [
    "## 40% MI"
   ]
  },
  {
   "cell_type": "code",
   "execution_count": 19,
   "metadata": {},
   "outputs": [],
   "source": [
    "from imblearn.over_sampling import SMOTE\n",
    "from xgboost import XGBClassifier\n",
    "\n",
    "def evaluate_model(y,sub):\n",
    "    smote = SMOTE()\n",
    "    x_smote, y_smote = smote.fit_resample(df[sub], y)\n",
    "    x_smote = pd.DataFrame(x_smote,columns=df[sub].columns)\n",
    "    y_smote = pd.DataFrame(y_smote,columns=y.columns)\n",
    "    data_SMOTE = pd.concat([x_smote, y_smote], axis=1)\n",
    "    X_train, X_test, y_train, y_test =train_test_split(x_smote,y_smote,train_size=0.75, random_state=0) \n",
    "    MODELS=[]\n",
    "    knn=dc.knn(X_train,y_train,3)\n",
    "    MODELS.append(knn)\n",
    "    dt=dc.DT(X_train,y_train)\n",
    "    MODELS.append(dt)\n",
    "    mlp=dc.MLP(X_train,y_train)\n",
    "    MODELS.append(mlp)\n",
    "    lr=dc.LR(X_train,y_train)\n",
    "    MODELS.append(lr)\n",
    "    sv=dc.svm(X_train,y_train)\n",
    "    MODELS.append(sv)\n",
    "    xgb=XGBClassifier(eval_metric='error', use_label_encoder=False).fit(X_train,y_train)\n",
    "    MODELS.append(xgb)\n",
    "    SPACE = 30\n",
    "\n",
    "    for model in MODELS:\n",
    "        # Fit    \n",
    "        # Scores\n",
    "        train_roc = roc_auc_score(y_train, model.predict(X_train))\n",
    "        test_roc  = roc_auc_score(y_test, model.predict(X_test))\n",
    "\n",
    "        train_accuracy = accuracy_score(y_train, model.predict(X_train))\n",
    "        test_accuracy  = accuracy_score(y_test, model.predict(X_test))\n",
    "\n",
    "        train_precision = precision_score(y_train, model.predict(X_train))\n",
    "        test_precision  = precision_score(y_test, model.predict(X_test))\n",
    "\n",
    "        train_recall = recall_score(y_train, model.predict(X_train))\n",
    "        test_recall  = recall_score(y_test, model.predict(X_test))\n",
    "\n",
    "        # Display\n",
    "        print(f\"{type(model).__name__.rjust(SPACE)}:\")\n",
    "        print(f'{\"ROC AUC\".rjust(SPACE)}: TRAIN({str(round(train_roc, 3))}) & TEST({str(round(test_roc, 3))})')\n",
    "        print(f'{\"Accuracy\".rjust(SPACE)}: TRAIN({str(round(train_accuracy, 3))}) & TEST({str(round(test_accuracy, 3))})')\n",
    "        print(f'{\"Precision\".rjust(SPACE)}: TRAIN({str(round(train_precision, 3))}) & TEST({str(round(train_precision, 3))})')\n",
    "        print(f'{\"Recall\".rjust(SPACE)}: TRAIN({str(round(train_recall, 3))}) & TEST({str(round(test_recall, 3))})')\n",
    "        print()"
   ]
  },
  {
   "cell_type": "code",
   "execution_count": 203,
   "metadata": {},
   "outputs": [],
   "source": [
    "mi1=set_p(mi_subset,0.4)"
   ]
  },
  {
   "cell_type": "code",
   "execution_count": 204,
   "metadata": {},
   "outputs": [
    {
     "name": "stderr",
     "output_type": "stream",
     "text": [
      "C:\\Users\\ismail\\anaconda3\\lib\\site-packages\\sklearn\\neighbors\\_classification.py:179: DataConversionWarning: A column-vector y was passed when a 1d array was expected. Please change the shape of y to (n_samples,), for example using ravel().\n",
      "  return self._fit(X, y)\n",
      "C:\\Users\\ismail\\anaconda3\\lib\\site-packages\\sklearn\\utils\\validation.py:63: DataConversionWarning: A column-vector y was passed when a 1d array was expected. Please change the shape of y to (n_samples, ), for example using ravel().\n",
      "  return f(*args, **kwargs)\n",
      "C:\\Users\\ismail\\anaconda3\\lib\\site-packages\\sklearn\\utils\\validation.py:63: DataConversionWarning: A column-vector y was passed when a 1d array was expected. Please change the shape of y to (n_samples, ), for example using ravel().\n",
      "  return f(*args, **kwargs)\n"
     ]
    },
    {
     "name": "stdout",
     "output_type": "stream",
     "text": [
      "          KNeighborsClassifier:\n",
      "                       ROC AUC: TRAIN(0.951) & TEST(0.916)\n",
      "                      Accuracy: TRAIN(0.951) & TEST(0.917)\n",
      "                     Precision: TRAIN(0.923) & TEST(0.923)\n",
      "                        Recall: TRAIN(0.983) & TEST(0.961)\n",
      "\n",
      "        DecisionTreeClassifier:\n",
      "                       ROC AUC: TRAIN(1.0) & TEST(0.915)\n",
      "                      Accuracy: TRAIN(1.0) & TEST(0.915)\n",
      "                     Precision: TRAIN(1.0) & TEST(1.0)\n",
      "                        Recall: TRAIN(1.0) & TEST(0.918)\n",
      "\n",
      "                 MLPClassifier:\n",
      "                       ROC AUC: TRAIN(0.892) & TEST(0.888)\n",
      "                      Accuracy: TRAIN(0.892) & TEST(0.888)\n",
      "                     Precision: TRAIN(0.871) & TEST(0.871)\n",
      "                        Recall: TRAIN(0.919) & TEST(0.919)\n",
      "\n",
      "            LogisticRegression:\n",
      "                       ROC AUC: TRAIN(0.856) & TEST(0.85)\n",
      "                      Accuracy: TRAIN(0.856) & TEST(0.85)\n",
      "                     Precision: TRAIN(0.857) & TEST(0.857)\n",
      "                        Recall: TRAIN(0.855) & TEST(0.849)\n",
      "\n",
      "                           SVC:\n",
      "                       ROC AUC: TRAIN(0.88) & TEST(0.873)\n",
      "                      Accuracy: TRAIN(0.88) & TEST(0.873)\n",
      "                     Precision: TRAIN(0.853) & TEST(0.853)\n",
      "                        Recall: TRAIN(0.916) & TEST(0.911)\n",
      "\n",
      "                 XGBClassifier:\n",
      "                       ROC AUC: TRAIN(0.961) & TEST(0.944)\n",
      "                      Accuracy: TRAIN(0.961) & TEST(0.944)\n",
      "                     Precision: TRAIN(0.95) & TEST(0.95)\n",
      "                        Recall: TRAIN(0.973) & TEST(0.961)\n",
      "\n"
     ]
    }
   ],
   "source": [
    "evaluate_model(y,mi1)"
   ]
  },
  {
   "cell_type": "markdown",
   "metadata": {},
   "source": [
    "# 70% mi"
   ]
  },
  {
   "cell_type": "code",
   "execution_count": 20,
   "metadata": {},
   "outputs": [
    {
     "name": "stderr",
     "output_type": "stream",
     "text": [
      "C:\\Users\\ismail\\anaconda3\\lib\\site-packages\\sklearn\\neighbors\\_classification.py:179: DataConversionWarning: A column-vector y was passed when a 1d array was expected. Please change the shape of y to (n_samples,), for example using ravel().\n",
      "  return self._fit(X, y)\n",
      "C:\\Users\\ismail\\anaconda3\\lib\\site-packages\\sklearn\\utils\\validation.py:63: DataConversionWarning: A column-vector y was passed when a 1d array was expected. Please change the shape of y to (n_samples, ), for example using ravel().\n",
      "  return f(*args, **kwargs)\n",
      "C:\\Users\\ismail\\anaconda3\\lib\\site-packages\\sklearn\\linear_model\\_logistic.py:765: ConvergenceWarning: lbfgs failed to converge (status=1):\n",
      "STOP: TOTAL NO. of ITERATIONS REACHED LIMIT.\n",
      "\n",
      "Increase the number of iterations (max_iter) or scale the data as shown in:\n",
      "    https://scikit-learn.org/stable/modules/preprocessing.html\n",
      "Please also refer to the documentation for alternative solver options:\n",
      "    https://scikit-learn.org/stable/modules/linear_model.html#logistic-regression\n",
      "  extra_warning_msg=_LOGISTIC_SOLVER_CONVERGENCE_MSG)\n",
      "C:\\Users\\ismail\\anaconda3\\lib\\site-packages\\sklearn\\utils\\validation.py:63: DataConversionWarning: A column-vector y was passed when a 1d array was expected. Please change the shape of y to (n_samples, ), for example using ravel().\n",
      "  return f(*args, **kwargs)\n"
     ]
    },
    {
     "name": "stdout",
     "output_type": "stream",
     "text": [
      "          KNeighborsClassifier:\n",
      "                       ROC AUC: TRAIN(0.959) & TEST(0.927)\n",
      "                      Accuracy: TRAIN(0.959) & TEST(0.927)\n",
      "                     Precision: TRAIN(0.928) & TEST(0.928)\n",
      "                        Recall: TRAIN(0.994) & TEST(0.983)\n",
      "\n",
      "        DecisionTreeClassifier:\n",
      "                       ROC AUC: TRAIN(1.0) & TEST(0.918)\n",
      "                      Accuracy: TRAIN(1.0) & TEST(0.918)\n",
      "                     Precision: TRAIN(1.0) & TEST(1.0)\n",
      "                        Recall: TRAIN(1.0) & TEST(0.924)\n",
      "\n",
      "                 MLPClassifier:\n",
      "                       ROC AUC: TRAIN(0.903) & TEST(0.896)\n",
      "                      Accuracy: TRAIN(0.903) & TEST(0.897)\n",
      "                     Precision: TRAIN(0.866) & TEST(0.866)\n",
      "                        Recall: TRAIN(0.953) & TEST(0.947)\n",
      "\n",
      "            LogisticRegression:\n",
      "                       ROC AUC: TRAIN(0.869) & TEST(0.863)\n",
      "                      Accuracy: TRAIN(0.869) & TEST(0.863)\n",
      "                     Precision: TRAIN(0.864) & TEST(0.864)\n",
      "                        Recall: TRAIN(0.873) & TEST(0.872)\n",
      "\n",
      "                           SVC:\n",
      "                       ROC AUC: TRAIN(0.891) & TEST(0.884)\n",
      "                      Accuracy: TRAIN(0.891) & TEST(0.885)\n",
      "                     Precision: TRAIN(0.861) & TEST(0.861)\n",
      "                        Recall: TRAIN(0.932) & TEST(0.929)\n",
      "\n",
      "                 XGBClassifier:\n",
      "                       ROC AUC: TRAIN(0.971) & TEST(0.948)\n",
      "                      Accuracy: TRAIN(0.971) & TEST(0.948)\n",
      "                     Precision: TRAIN(0.97) & TEST(0.97)\n",
      "                        Recall: TRAIN(0.973) & TEST(0.953)\n",
      "\n"
     ]
    }
   ],
   "source": [
    "mi2=set_p(mi_subset,0.7)\n",
    "evaluate_model(y,mi2)"
   ]
  },
  {
   "cell_type": "markdown",
   "metadata": {},
   "source": [
    "# 90% mi"
   ]
  },
  {
   "cell_type": "code",
   "execution_count": 21,
   "metadata": {},
   "outputs": [
    {
     "name": "stderr",
     "output_type": "stream",
     "text": [
      "C:\\Users\\ismail\\anaconda3\\lib\\site-packages\\sklearn\\neighbors\\_classification.py:179: DataConversionWarning: A column-vector y was passed when a 1d array was expected. Please change the shape of y to (n_samples,), for example using ravel().\n",
      "  return self._fit(X, y)\n",
      "C:\\Users\\ismail\\anaconda3\\lib\\site-packages\\sklearn\\utils\\validation.py:63: DataConversionWarning: A column-vector y was passed when a 1d array was expected. Please change the shape of y to (n_samples, ), for example using ravel().\n",
      "  return f(*args, **kwargs)\n",
      "C:\\Users\\ismail\\anaconda3\\lib\\site-packages\\sklearn\\linear_model\\_logistic.py:765: ConvergenceWarning: lbfgs failed to converge (status=1):\n",
      "STOP: TOTAL NO. of ITERATIONS REACHED LIMIT.\n",
      "\n",
      "Increase the number of iterations (max_iter) or scale the data as shown in:\n",
      "    https://scikit-learn.org/stable/modules/preprocessing.html\n",
      "Please also refer to the documentation for alternative solver options:\n",
      "    https://scikit-learn.org/stable/modules/linear_model.html#logistic-regression\n",
      "  extra_warning_msg=_LOGISTIC_SOLVER_CONVERGENCE_MSG)\n",
      "C:\\Users\\ismail\\anaconda3\\lib\\site-packages\\sklearn\\utils\\validation.py:63: DataConversionWarning: A column-vector y was passed when a 1d array was expected. Please change the shape of y to (n_samples, ), for example using ravel().\n",
      "  return f(*args, **kwargs)\n"
     ]
    },
    {
     "name": "stdout",
     "output_type": "stream",
     "text": [
      "          KNeighborsClassifier:\n",
      "                       ROC AUC: TRAIN(0.959) & TEST(0.926)\n",
      "                      Accuracy: TRAIN(0.959) & TEST(0.927)\n",
      "                     Precision: TRAIN(0.928) & TEST(0.928)\n",
      "                        Recall: TRAIN(0.994) & TEST(0.982)\n",
      "\n",
      "        DecisionTreeClassifier:\n",
      "                       ROC AUC: TRAIN(1.0) & TEST(0.923)\n",
      "                      Accuracy: TRAIN(1.0) & TEST(0.923)\n",
      "                     Precision: TRAIN(1.0) & TEST(1.0)\n",
      "                        Recall: TRAIN(1.0) & TEST(0.93)\n",
      "\n",
      "                 MLPClassifier:\n",
      "                       ROC AUC: TRAIN(0.903) & TEST(0.9)\n",
      "                      Accuracy: TRAIN(0.903) & TEST(0.901)\n",
      "                     Precision: TRAIN(0.867) & TEST(0.867)\n",
      "                        Recall: TRAIN(0.951) & TEST(0.955)\n",
      "\n",
      "            LogisticRegression:\n",
      "                       ROC AUC: TRAIN(0.871) & TEST(0.871)\n",
      "                      Accuracy: TRAIN(0.871) & TEST(0.871)\n",
      "                     Precision: TRAIN(0.865) & TEST(0.865)\n",
      "                        Recall: TRAIN(0.879) & TEST(0.886)\n",
      "\n",
      "                           SVC:\n",
      "                       ROC AUC: TRAIN(0.894) & TEST(0.889)\n",
      "                      Accuracy: TRAIN(0.893) & TEST(0.89)\n",
      "                     Precision: TRAIN(0.865) & TEST(0.865)\n",
      "                        Recall: TRAIN(0.932) & TEST(0.936)\n",
      "\n",
      "                 XGBClassifier:\n",
      "                       ROC AUC: TRAIN(0.973) & TEST(0.949)\n",
      "                      Accuracy: TRAIN(0.973) & TEST(0.949)\n",
      "                     Precision: TRAIN(0.974) & TEST(0.974)\n",
      "                        Recall: TRAIN(0.972) & TEST(0.95)\n",
      "\n"
     ]
    }
   ],
   "source": [
    "mi3=set_p(mi_subset,0.9)\n",
    "evaluate_model(y,mi3)"
   ]
  },
  {
   "cell_type": "markdown",
   "metadata": {},
   "source": [
    "# 40% anova"
   ]
  },
  {
   "cell_type": "code",
   "execution_count": 22,
   "metadata": {},
   "outputs": [
    {
     "name": "stderr",
     "output_type": "stream",
     "text": [
      "C:\\Users\\ismail\\anaconda3\\lib\\site-packages\\sklearn\\neighbors\\_classification.py:179: DataConversionWarning: A column-vector y was passed when a 1d array was expected. Please change the shape of y to (n_samples,), for example using ravel().\n",
      "  return self._fit(X, y)\n",
      "C:\\Users\\ismail\\anaconda3\\lib\\site-packages\\sklearn\\utils\\validation.py:63: DataConversionWarning: A column-vector y was passed when a 1d array was expected. Please change the shape of y to (n_samples, ), for example using ravel().\n",
      "  return f(*args, **kwargs)\n",
      "C:\\Users\\ismail\\anaconda3\\lib\\site-packages\\sklearn\\linear_model\\_logistic.py:765: ConvergenceWarning: lbfgs failed to converge (status=1):\n",
      "STOP: TOTAL NO. of ITERATIONS REACHED LIMIT.\n",
      "\n",
      "Increase the number of iterations (max_iter) or scale the data as shown in:\n",
      "    https://scikit-learn.org/stable/modules/preprocessing.html\n",
      "Please also refer to the documentation for alternative solver options:\n",
      "    https://scikit-learn.org/stable/modules/linear_model.html#logistic-regression\n",
      "  extra_warning_msg=_LOGISTIC_SOLVER_CONVERGENCE_MSG)\n",
      "C:\\Users\\ismail\\anaconda3\\lib\\site-packages\\sklearn\\utils\\validation.py:63: DataConversionWarning: A column-vector y was passed when a 1d array was expected. Please change the shape of y to (n_samples, ), for example using ravel().\n",
      "  return f(*args, **kwargs)\n"
     ]
    },
    {
     "name": "stdout",
     "output_type": "stream",
     "text": [
      "          KNeighborsClassifier:\n",
      "                       ROC AUC: TRAIN(0.959) & TEST(0.927)\n",
      "                      Accuracy: TRAIN(0.959) & TEST(0.927)\n",
      "                     Precision: TRAIN(0.928) & TEST(0.928)\n",
      "                        Recall: TRAIN(0.994) & TEST(0.984)\n",
      "\n",
      "        DecisionTreeClassifier:\n",
      "                       ROC AUC: TRAIN(1.0) & TEST(0.916)\n",
      "                      Accuracy: TRAIN(1.0) & TEST(0.916)\n",
      "                     Precision: TRAIN(1.0) & TEST(1.0)\n",
      "                        Recall: TRAIN(1.0) & TEST(0.92)\n",
      "\n",
      "                 MLPClassifier:\n",
      "                       ROC AUC: TRAIN(0.902) & TEST(0.895)\n",
      "                      Accuracy: TRAIN(0.901) & TEST(0.895)\n",
      "                     Precision: TRAIN(0.86) & TEST(0.86)\n",
      "                        Recall: TRAIN(0.958) & TEST(0.952)\n",
      "\n",
      "            LogisticRegression:\n",
      "                       ROC AUC: TRAIN(0.868) & TEST(0.867)\n",
      "                      Accuracy: TRAIN(0.868) & TEST(0.867)\n",
      "                     Precision: TRAIN(0.863) & TEST(0.863)\n",
      "                        Recall: TRAIN(0.872) & TEST(0.878)\n",
      "\n",
      "                           SVC:\n",
      "                       ROC AUC: TRAIN(0.891) & TEST(0.884)\n",
      "                      Accuracy: TRAIN(0.891) & TEST(0.885)\n",
      "                     Precision: TRAIN(0.86) & TEST(0.86)\n",
      "                        Recall: TRAIN(0.932) & TEST(0.93)\n",
      "\n",
      "                 XGBClassifier:\n",
      "                       ROC AUC: TRAIN(0.973) & TEST(0.949)\n",
      "                      Accuracy: TRAIN(0.973) & TEST(0.949)\n",
      "                     Precision: TRAIN(0.973) & TEST(0.973)\n",
      "                        Recall: TRAIN(0.972) & TEST(0.954)\n",
      "\n"
     ]
    }
   ],
   "source": [
    "an1=set_p(anova_subset,0.4)\n",
    "evaluate_model(y,mi2)"
   ]
  },
  {
   "cell_type": "markdown",
   "metadata": {},
   "source": [
    "# 70% anova"
   ]
  },
  {
   "cell_type": "code",
   "execution_count": 23,
   "metadata": {},
   "outputs": [
    {
     "name": "stderr",
     "output_type": "stream",
     "text": [
      "C:\\Users\\ismail\\anaconda3\\lib\\site-packages\\sklearn\\neighbors\\_classification.py:179: DataConversionWarning: A column-vector y was passed when a 1d array was expected. Please change the shape of y to (n_samples,), for example using ravel().\n",
      "  return self._fit(X, y)\n",
      "C:\\Users\\ismail\\anaconda3\\lib\\site-packages\\sklearn\\utils\\validation.py:63: DataConversionWarning: A column-vector y was passed when a 1d array was expected. Please change the shape of y to (n_samples, ), for example using ravel().\n",
      "  return f(*args, **kwargs)\n",
      "C:\\Users\\ismail\\anaconda3\\lib\\site-packages\\sklearn\\linear_model\\_logistic.py:765: ConvergenceWarning: lbfgs failed to converge (status=1):\n",
      "STOP: TOTAL NO. of ITERATIONS REACHED LIMIT.\n",
      "\n",
      "Increase the number of iterations (max_iter) or scale the data as shown in:\n",
      "    https://scikit-learn.org/stable/modules/preprocessing.html\n",
      "Please also refer to the documentation for alternative solver options:\n",
      "    https://scikit-learn.org/stable/modules/linear_model.html#logistic-regression\n",
      "  extra_warning_msg=_LOGISTIC_SOLVER_CONVERGENCE_MSG)\n",
      "C:\\Users\\ismail\\anaconda3\\lib\\site-packages\\sklearn\\utils\\validation.py:63: DataConversionWarning: A column-vector y was passed when a 1d array was expected. Please change the shape of y to (n_samples, ), for example using ravel().\n",
      "  return f(*args, **kwargs)\n"
     ]
    },
    {
     "name": "stdout",
     "output_type": "stream",
     "text": [
      "          KNeighborsClassifier:\n",
      "                       ROC AUC: TRAIN(0.959) & TEST(0.926)\n",
      "                      Accuracy: TRAIN(0.959) & TEST(0.927)\n",
      "                     Precision: TRAIN(0.928) & TEST(0.928)\n",
      "                        Recall: TRAIN(0.994) & TEST(0.982)\n",
      "\n",
      "        DecisionTreeClassifier:\n",
      "                       ROC AUC: TRAIN(1.0) & TEST(0.919)\n",
      "                      Accuracy: TRAIN(1.0) & TEST(0.919)\n",
      "                     Precision: TRAIN(1.0) & TEST(1.0)\n",
      "                        Recall: TRAIN(1.0) & TEST(0.923)\n",
      "\n",
      "                 MLPClassifier:\n",
      "                       ROC AUC: TRAIN(0.893) & TEST(0.888)\n",
      "                      Accuracy: TRAIN(0.893) & TEST(0.889)\n",
      "                     Precision: TRAIN(0.852) & TEST(0.852)\n",
      "                        Recall: TRAIN(0.949) & TEST(0.947)\n",
      "\n",
      "            LogisticRegression:\n",
      "                       ROC AUC: TRAIN(0.867) & TEST(0.863)\n",
      "                      Accuracy: TRAIN(0.867) & TEST(0.863)\n",
      "                     Precision: TRAIN(0.862) & TEST(0.862)\n",
      "                        Recall: TRAIN(0.871) & TEST(0.872)\n",
      "\n",
      "                           SVC:\n",
      "                       ROC AUC: TRAIN(0.89) & TEST(0.884)\n",
      "                      Accuracy: TRAIN(0.89) & TEST(0.885)\n",
      "                     Precision: TRAIN(0.859) & TEST(0.859)\n",
      "                        Recall: TRAIN(0.931) & TEST(0.933)\n",
      "\n",
      "                 XGBClassifier:\n",
      "                       ROC AUC: TRAIN(0.972) & TEST(0.95)\n",
      "                      Accuracy: TRAIN(0.972) & TEST(0.95)\n",
      "                     Precision: TRAIN(0.97) & TEST(0.97)\n",
      "                        Recall: TRAIN(0.973) & TEST(0.955)\n",
      "\n"
     ]
    }
   ],
   "source": [
    "an2=set_p(anova_subset,0.7)\n",
    "evaluate_model(y,mi2)"
   ]
  },
  {
   "cell_type": "markdown",
   "metadata": {},
   "source": [
    "# 90% anova"
   ]
  },
  {
   "cell_type": "code",
   "execution_count": 24,
   "metadata": {},
   "outputs": [
    {
     "name": "stderr",
     "output_type": "stream",
     "text": [
      "C:\\Users\\ismail\\anaconda3\\lib\\site-packages\\sklearn\\neighbors\\_classification.py:179: DataConversionWarning: A column-vector y was passed when a 1d array was expected. Please change the shape of y to (n_samples,), for example using ravel().\n",
      "  return self._fit(X, y)\n",
      "C:\\Users\\ismail\\anaconda3\\lib\\site-packages\\sklearn\\utils\\validation.py:63: DataConversionWarning: A column-vector y was passed when a 1d array was expected. Please change the shape of y to (n_samples, ), for example using ravel().\n",
      "  return f(*args, **kwargs)\n",
      "C:\\Users\\ismail\\anaconda3\\lib\\site-packages\\sklearn\\linear_model\\_logistic.py:765: ConvergenceWarning: lbfgs failed to converge (status=1):\n",
      "STOP: TOTAL NO. of ITERATIONS REACHED LIMIT.\n",
      "\n",
      "Increase the number of iterations (max_iter) or scale the data as shown in:\n",
      "    https://scikit-learn.org/stable/modules/preprocessing.html\n",
      "Please also refer to the documentation for alternative solver options:\n",
      "    https://scikit-learn.org/stable/modules/linear_model.html#logistic-regression\n",
      "  extra_warning_msg=_LOGISTIC_SOLVER_CONVERGENCE_MSG)\n",
      "C:\\Users\\ismail\\anaconda3\\lib\\site-packages\\sklearn\\utils\\validation.py:63: DataConversionWarning: A column-vector y was passed when a 1d array was expected. Please change the shape of y to (n_samples, ), for example using ravel().\n",
      "  return f(*args, **kwargs)\n"
     ]
    },
    {
     "name": "stdout",
     "output_type": "stream",
     "text": [
      "          KNeighborsClassifier:\n",
      "                       ROC AUC: TRAIN(0.959) & TEST(0.928)\n",
      "                      Accuracy: TRAIN(0.959) & TEST(0.928)\n",
      "                     Precision: TRAIN(0.928) & TEST(0.928)\n",
      "                        Recall: TRAIN(0.995) & TEST(0.984)\n",
      "\n",
      "        DecisionTreeClassifier:\n",
      "                       ROC AUC: TRAIN(1.0) & TEST(0.918)\n",
      "                      Accuracy: TRAIN(1.0) & TEST(0.918)\n",
      "                     Precision: TRAIN(1.0) & TEST(1.0)\n",
      "                        Recall: TRAIN(1.0) & TEST(0.926)\n",
      "\n",
      "                 MLPClassifier:\n",
      "                       ROC AUC: TRAIN(0.9) & TEST(0.896)\n",
      "                      Accuracy: TRAIN(0.9) & TEST(0.896)\n",
      "                     Precision: TRAIN(0.878) & TEST(0.878)\n",
      "                        Recall: TRAIN(0.928) & TEST(0.929)\n",
      "\n",
      "            LogisticRegression:\n",
      "                       ROC AUC: TRAIN(0.868) & TEST(0.867)\n",
      "                      Accuracy: TRAIN(0.868) & TEST(0.867)\n",
      "                     Precision: TRAIN(0.863) & TEST(0.863)\n",
      "                        Recall: TRAIN(0.873) & TEST(0.879)\n",
      "\n",
      "                           SVC:\n",
      "                       ROC AUC: TRAIN(0.891) & TEST(0.887)\n",
      "                      Accuracy: TRAIN(0.891) & TEST(0.888)\n",
      "                     Precision: TRAIN(0.859) & TEST(0.859)\n",
      "                        Recall: TRAIN(0.933) & TEST(0.936)\n",
      "\n",
      "                 XGBClassifier:\n",
      "                       ROC AUC: TRAIN(0.972) & TEST(0.947)\n",
      "                      Accuracy: TRAIN(0.972) & TEST(0.947)\n",
      "                     Precision: TRAIN(0.971) & TEST(0.971)\n",
      "                        Recall: TRAIN(0.972) & TEST(0.951)\n",
      "\n"
     ]
    }
   ],
   "source": [
    "an3=set_p(anova_subset,0.9)\n",
    "evaluate_model(y,mi2)"
   ]
  },
  {
   "cell_type": "markdown",
   "metadata": {},
   "source": [
    "## DATA BALANCING"
   ]
  },
  {
   "cell_type": "code",
   "execution_count": 17,
   "metadata": {},
   "outputs": [],
   "source": [
    "from imblearn.over_sampling import SMOTE\n",
    "smote = SMOTE()\n",
    "y = y.to_frame()\n",
    "x_smote, y_smote = smote.fit_resample(df[inters], y)\n",
    "x_smote = pd.DataFrame(x_smote,columns=df[inters].columns)\n",
    "y_smote = pd.DataFrame(y_smote,columns=y.columns)\n",
    "data_SMOTE = pd.concat([x_smote, y_smote], axis=1)"
   ]
  },
  {
   "cell_type": "code",
   "execution_count": 30,
   "metadata": {},
   "outputs": [
    {
     "name": "stdout",
     "output_type": "stream",
     "text": [
      "Number of yes  50.0 %\n",
      "Number of no :  50.0 %\n"
     ]
    },
    {
     "data": {
      "image/png": "[encoded data removed]",
      "text/plain": [
       "<Figure size 432x288 with 1 Axes>"
      ]
     },
     "metadata": {
      "needs_background": "light"
     },
     "output_type": "display_data"
    }
   ],
   "source": [
    "data_SMOTE['subscribed'].value_counts().plot(kind='bar')\n",
    "YES, NON = data_SMOTE['subscribed'].value_counts()\n",
    "print('Number of yes ',YES/(YES+NON)*100,'%')\n",
    "print('Number of no : ',NON/(NON+YES)*100,'%')"
   ]
  },
  {
   "cell_type": "markdown",
   "metadata": {},
   "source": [
    "# CLASSIFICATION"
   ]
  },
  {
   "cell_type": "code",
   "execution_count": 31,
   "metadata": {},
   "outputs": [],
   "source": [
    "from sklearn.model_selection import train_test_split\n",
    "X_train, X_test, y_train, y_test =train_test_split(x_smote,y_smote,train_size=0.75, random_state=0) "
   ]
  },
  {
   "cell_type": "code",
   "execution_count": 32,
   "metadata": {},
   "outputs": [],
   "source": [
    "MODELS=[]"
   ]
  },
  {
   "cell_type": "markdown",
   "metadata": {},
   "source": [
    "# knn"
   ]
  },
  {
   "cell_type": "code",
   "execution_count": 34,
   "metadata": {},
   "outputs": [
    {
     "name": "stderr",
     "output_type": "stream",
     "text": [
      "C:\\Users\\ismail\\anaconda3\\lib\\site-packages\\sklearn\\neighbors\\_classification.py:179: DataConversionWarning: A column-vector y was passed when a 1d array was expected. Please change the shape of y to (n_samples,), for example using ravel().\n",
      "  return self._fit(X, y)\n"
     ]
    }
   ],
   "source": [
    "knn=dc.knn(X_train,y_train,3)"
   ]
  },
  {
   "cell_type": "code",
   "execution_count": 35,
   "metadata": {},
   "outputs": [
    {
     "name": "stdout",
     "output_type": "stream",
     "text": [
      "0.9191154733045587\n"
     ]
    }
   ],
   "source": [
    "score=knn.score(X_test,y_test)\n",
    "\n",
    "print(score)"
   ]
  },
  {
   "cell_type": "code",
   "execution_count": 36,
   "metadata": {},
   "outputs": [
    {
     "name": "stdout",
     "output_type": "stream",
     "text": [
      "              precision    recall  f1-score   support\n",
      "\n",
      "         0.0       0.96      0.88      0.91      8353\n",
      "         1.0       0.89      0.96      0.92      8560\n",
      "\n",
      "    accuracy                           0.92     16913\n",
      "   macro avg       0.92      0.92      0.92     16913\n",
      "weighted avg       0.92      0.92      0.92     16913\n",
      "\n"
     ]
    }
   ],
   "source": [
    "dc.report(knn,X_test,y_test)"
   ]
  },
  {
   "cell_type": "code",
   "execution_count": 37,
   "metadata": {},
   "outputs": [],
   "source": [
    "MODELS.append(knn)"
   ]
  },
  {
   "cell_type": "markdown",
   "metadata": {},
   "source": [
    "## Decision Tree"
   ]
  },
  {
   "cell_type": "code",
   "execution_count": 40,
   "metadata": {},
   "outputs": [],
   "source": [
    "dt=dc.DT(X_train,y_train)"
   ]
  },
  {
   "cell_type": "code",
   "execution_count": 41,
   "metadata": {},
   "outputs": [
    {
     "name": "stdout",
     "output_type": "stream",
     "text": [
      "0.9086501507715958\n"
     ]
    }
   ],
   "source": [
    "score=dt.score(X_test,y_test)\n",
    "\n",
    "print(score)"
   ]
  },
  {
   "cell_type": "code",
   "execution_count": 42,
   "metadata": {},
   "outputs": [
    {
     "name": "stdout",
     "output_type": "stream",
     "text": [
      "              precision    recall  f1-score   support\n",
      "\n",
      "         0.0       0.91      0.91      0.91      8353\n",
      "         1.0       0.91      0.91      0.91      8560\n",
      "\n",
      "    accuracy                           0.91     16913\n",
      "   macro avg       0.91      0.91      0.91     16913\n",
      "weighted avg       0.91      0.91      0.91     16913\n",
      "\n"
     ]
    }
   ],
   "source": [
    "dc.report(dt,X_test,y_test)"
   ]
  },
  {
   "cell_type": "code",
   "execution_count": 43,
   "metadata": {},
   "outputs": [],
   "source": [
    "MODELS.append(dt)"
   ]
  },
  {
   "cell_type": "markdown",
   "metadata": {},
   "source": [
    "## MLP"
   ]
  },
  {
   "cell_type": "code",
   "execution_count": 44,
   "metadata": {},
   "outputs": [],
   "source": [
    "mlp=dc.MLP(X_train,y_train)"
   ]
  },
  {
   "cell_type": "code",
   "execution_count": 45,
   "metadata": {},
   "outputs": [
    {
     "name": "stdout",
     "output_type": "stream",
     "text": [
      "0.8873647490096376\n"
     ]
    }
   ],
   "source": [
    "score=mlp.score(X_test,y_test)\n",
    "\n",
    "print(score)"
   ]
  },
  {
   "cell_type": "code",
   "execution_count": 46,
   "metadata": {},
   "outputs": [
    {
     "name": "stdout",
     "output_type": "stream",
     "text": [
      "              precision    recall  f1-score   support\n",
      "\n",
      "         0.0       0.95      0.81      0.88      8353\n",
      "         1.0       0.84      0.96      0.90      8560\n",
      "\n",
      "    accuracy                           0.89     16913\n",
      "   macro avg       0.90      0.89      0.89     16913\n",
      "weighted avg       0.90      0.89      0.89     16913\n",
      "\n"
     ]
    }
   ],
   "source": [
    "dc.report(mlp,X_test,y_test)"
   ]
  },
  {
   "cell_type": "code",
   "execution_count": 47,
   "metadata": {},
   "outputs": [],
   "source": [
    "MODELS.append(mlp)"
   ]
  },
  {
   "cell_type": "markdown",
   "metadata": {},
   "source": [
    "## LOGISTIC REGRESSION "
   ]
  },
  {
   "cell_type": "code",
   "execution_count": 48,
   "metadata": {},
   "outputs": [
    {
     "name": "stderr",
     "output_type": "stream",
     "text": [
      "C:\\Users\\ismail\\anaconda3\\lib\\site-packages\\sklearn\\utils\\validation.py:63: DataConversionWarning: A column-vector y was passed when a 1d array was expected. Please change the shape of y to (n_samples, ), for example using ravel().\n",
      "  return f(*args, **kwargs)\n"
     ]
    }
   ],
   "source": [
    "lr=dc.LR(X_train,y_train)\n"
   ]
  },
  {
   "cell_type": "code",
   "execution_count": 49,
   "metadata": {},
   "outputs": [
    {
     "name": "stdout",
     "output_type": "stream",
     "text": [
      "0.8556140247147165\n"
     ]
    }
   ],
   "source": [
    "score=lr.score(X_test,y_test)\n",
    "\n",
    "print(score)"
   ]
  },
  {
   "cell_type": "code",
   "execution_count": 50,
   "metadata": {},
   "outputs": [
    {
     "name": "stdout",
     "output_type": "stream",
     "text": [
      "              precision    recall  f1-score   support\n",
      "\n",
      "         0.0       0.86      0.85      0.85      8353\n",
      "         1.0       0.85      0.86      0.86      8560\n",
      "\n",
      "    accuracy                           0.86     16913\n",
      "   macro avg       0.86      0.86      0.86     16913\n",
      "weighted avg       0.86      0.86      0.86     16913\n",
      "\n"
     ]
    }
   ],
   "source": [
    "dc.report(lr,X_test,y_test)"
   ]
  },
  {
   "cell_type": "code",
   "execution_count": 51,
   "metadata": {},
   "outputs": [],
   "source": [
    "MODELS.append(lr)"
   ]
  },
  {
   "cell_type": "markdown",
   "metadata": {},
   "source": [
    "## SVM"
   ]
  },
  {
   "cell_type": "code",
   "execution_count": 52,
   "metadata": {},
   "outputs": [
    {
     "name": "stderr",
     "output_type": "stream",
     "text": [
      "C:\\Users\\ismail\\anaconda3\\lib\\site-packages\\sklearn\\utils\\validation.py:63: DataConversionWarning: A column-vector y was passed when a 1d array was expected. Please change the shape of y to (n_samples, ), for example using ravel().\n",
      "  return f(*args, **kwargs)\n"
     ]
    }
   ],
   "source": [
    "sv=dc.svm(X_train,y_train)"
   ]
  },
  {
   "cell_type": "code",
   "execution_count": 35,
   "metadata": {},
   "outputs": [
    {
     "name": "stderr",
     "output_type": "stream",
     "text": [
      "C:\\Users\\ismail\\anaconda3\\lib\\site-packages\\sklearn\\utils\\validation.py:63: DataConversionWarning: A column-vector y was passed when a 1d array was expected. Please change the shape of y to (n_samples, ), for example using ravel().\n",
      "  return f(*args, **kwargs)\n"
     ]
    },
    {
     "data": {
      "text/plain": [
       "SVC()"
      ]
     },
     "execution_count": 35,
     "metadata": {},
     "output_type": "execute_result"
    }
   ],
   "source": [
    "from sklearn.svm import SVC\n",
    "\n",
    "sv = SVC()\n",
    "sv.fit(X_train, y_train)\n"
   ]
  },
  {
   "cell_type": "code",
   "execution_count": 53,
   "metadata": {},
   "outputs": [
    {
     "name": "stdout",
     "output_type": "stream",
     "text": [
      "0.8748891385324898\n"
     ]
    }
   ],
   "source": [
    "score=sv.score(X_test,y_test)\n",
    "\n",
    "print(score)"
   ]
  },
  {
   "cell_type": "code",
   "execution_count": 54,
   "metadata": {},
   "outputs": [
    {
     "name": "stdout",
     "output_type": "stream",
     "text": [
      "              precision    recall  f1-score   support\n",
      "\n",
      "         0.0       0.91      0.83      0.87      8353\n",
      "         1.0       0.85      0.92      0.88      8560\n",
      "\n",
      "    accuracy                           0.87     16913\n",
      "   macro avg       0.88      0.87      0.87     16913\n",
      "weighted avg       0.88      0.87      0.87     16913\n",
      "\n"
     ]
    }
   ],
   "source": [
    "dc.report(sv,X_test,y_test)"
   ]
  },
  {
   "cell_type": "code",
   "execution_count": 55,
   "metadata": {},
   "outputs": [],
   "source": [
    "MODELS.append(sv)"
   ]
  },
  {
   "cell_type": "markdown",
   "metadata": {},
   "source": [
    "## XGBOOST "
   ]
  },
  {
   "cell_type": "code",
   "execution_count": 56,
   "metadata": {},
   "outputs": [],
   "source": [
    "from xgboost import XGBClassifier\n",
    "xgb=XGBClassifier(eval_metric='error', use_label_encoder=False).fit(X_train,y_train)\n"
   ]
  },
  {
   "cell_type": "code",
   "execution_count": 57,
   "metadata": {},
   "outputs": [
    {
     "name": "stdout",
     "output_type": "stream",
     "text": [
      "0.9380949565423047\n"
     ]
    }
   ],
   "source": [
    "score=xgb.score(X_test,y_test)\n",
    "\n",
    "print(score)"
   ]
  },
  {
   "cell_type": "code",
   "execution_count": 58,
   "metadata": {},
   "outputs": [
    {
     "name": "stdout",
     "output_type": "stream",
     "text": [
      "              precision    recall  f1-score   support\n",
      "\n",
      "         0.0       0.95      0.92      0.94      8353\n",
      "         1.0       0.92      0.96      0.94      8560\n",
      "\n",
      "    accuracy                           0.94     16913\n",
      "   macro avg       0.94      0.94      0.94     16913\n",
      "weighted avg       0.94      0.94      0.94     16913\n",
      "\n"
     ]
    }
   ],
   "source": [
    "dc.report(xgb,X_test,y_test)"
   ]
  },
  {
   "cell_type": "code",
   "execution_count": 59,
   "metadata": {},
   "outputs": [],
   "source": [
    "MODELS.append(xgb)"
   ]
  },
  {
   "cell_type": "markdown",
   "metadata": {},
   "source": [
    "# COMPARAISON ENTRE NOS MODELES"
   ]
  },
  {
   "cell_type": "code",
   "execution_count": 50,
   "metadata": {
    "scrolled": true
   },
   "outputs": [
    {
     "name": "stdout",
     "output_type": "stream",
     "text": [
      "          KNeighborsClassifier:\n",
      "                       ROC AUC: TRAIN(0.935) & TEST(0.907)\n",
      "                      Accuracy: TRAIN(0.934) & TEST(0.907)\n",
      "                     Precision: TRAIN(0.901) & TEST(0.901)\n",
      "                        Recall: TRAIN(0.975) & TEST(0.956)\n",
      "\n",
      "        DecisionTreeClassifier:\n",
      "                       ROC AUC: TRAIN(1.0) & TEST(0.917)\n",
      "                      Accuracy: TRAIN(1.0) & TEST(0.917)\n",
      "                     Precision: TRAIN(1.0) & TEST(1.0)\n",
      "                        Recall: TRAIN(0.999) & TEST(0.917)\n",
      "\n",
      "                 MLPClassifier:\n",
      "                       ROC AUC: TRAIN(0.886) & TEST(0.881)\n",
      "                      Accuracy: TRAIN(0.886) & TEST(0.882)\n",
      "                     Precision: TRAIN(0.852) & TEST(0.852)\n",
      "                        Recall: TRAIN(0.932) & TEST(0.933)\n",
      "\n",
      "            LogisticRegression:\n",
      "                       ROC AUC: TRAIN(0.858) & TEST(0.856)\n",
      "                      Accuracy: TRAIN(0.858) & TEST(0.856)\n",
      "                     Precision: TRAIN(0.857) & TEST(0.857)\n",
      "                        Recall: TRAIN(0.859) & TEST(0.861)\n",
      "\n",
      "                           SVC:\n",
      "                       ROC AUC: TRAIN(0.879) & TEST(0.874)\n",
      "                      Accuracy: TRAIN(0.878) & TEST(0.874)\n",
      "                     Precision: TRAIN(0.851) & TEST(0.851)\n",
      "                        Recall: TRAIN(0.915) & TEST(0.917)\n",
      "\n",
      "                 XGBClassifier:\n",
      "                       ROC AUC: TRAIN(0.957) & TEST(0.939)\n",
      "                      Accuracy: TRAIN(0.957) & TEST(0.939)\n",
      "                     Precision: TRAIN(0.944) & TEST(0.944)\n",
      "                        Recall: TRAIN(0.971) & TEST(0.958)\n",
      "\n"
     ]
    }
   ],
   "source": [
    "SPACE = 30\n",
    "\n",
    "for model in MODELS:\n",
    "    # Fit    \n",
    "    # Scores\n",
    "    train_roc = roc_auc_score(y_train, model.predict(X_train))\n",
    "    test_roc  = roc_auc_score(y_test, model.predict(X_test))\n",
    "    \n",
    "    train_accuracy = accuracy_score(y_train, model.predict(X_train))\n",
    "    test_accuracy  = accuracy_score(y_test, model.predict(X_test))\n",
    "    \n",
    "    train_precision = precision_score(y_train, model.predict(X_train))\n",
    "    test_precision  = precision_score(y_test, model.predict(X_test))\n",
    "    \n",
    "    train_recall = recall_score(y_train, model.predict(X_train))\n",
    "    test_recall  = recall_score(y_test, model.predict(X_test))\n",
    "    \n",
    "    # Display\n",
    "    print(f\"{type(model).__name__.rjust(SPACE)}:\")\n",
    "    print(f'{\"ROC AUC\".rjust(SPACE)}: TRAIN({str(round(train_roc, 3))}) & TEST({str(round(test_roc, 3))})')\n",
    "    print(f'{\"Accuracy\".rjust(SPACE)}: TRAIN({str(round(train_accuracy, 3))}) & TEST({str(round(test_accuracy, 3))})')\n",
    "    print(f'{\"Precision\".rjust(SPACE)}: TRAIN({str(round(train_precision, 3))}) & TEST({str(round(train_precision, 3))})')\n",
    "    print(f'{\"Recall\".rjust(SPACE)}: TRAIN({str(round(train_recall, 3))}) & TEST({str(round(test_recall, 3))})')\n",
    "    print()"
   ]
  },
  {
   "cell_type": "code",
   "execution_count": 52,
   "metadata": {},
   "outputs": [
    {
     "name": "stdout",
     "output_type": "stream",
     "text": [
      "MLP: 0.886552 (0.005890)\n",
      "KNN: 0.915302 (0.003634)\n",
      "decision tree: 0.919219 (0.002845)\n",
      "logistic: 0.857550 (0.003990)\n",
      "xgboost: 0.941169 (0.002146)\n",
      "SVM: 0.877624 (0.002750)\n"
     ]
    },
    {
     "data": {
      "image/png": "[encoded data removed]",
      "text/plain": [
       "<Figure size 432x288 with 1 Axes>"
      ]
     },
     "metadata": {
      "needs_background": "light"
     },
     "output_type": "display_data"
    }
   ],
   "source": [
    "\n",
    "# load dataset\n",
    "# prepare configuration for cross validation test harness\n",
    "seed = 7\n",
    "# prepare models\n",
    "models = []\n",
    "models.append(('MLP', MLPClassifier(solver='adam',hidden_layer_sizes=(8,7,7),activation='relu',batch_size=32, max_iter=300)))\n",
    "models.append(('KNN', KNeighborsClassifier()))\n",
    "models.append(('decision tree', DecisionTreeClassifier()))\n",
    "models.append(('logistic',LogisticRegression(C=10e10)))\n",
    "models.append(('xgboost',XGBClassifier(eval_metric='error', use_label_encoder=False)))\n",
    "models.append(('SVM',SVC()))\n",
    "\n",
    "# evaluate each model in turn\n",
    "results = []\n",
    "names = []\n",
    "scoring = 'accuracy'\n",
    "for name, model in models:\n",
    "    kfold = model_selection.KFold(n_splits=10, random_state=seed,shuffle=True)\n",
    "    cv_results = model_selection.cross_val_score(model, x_smote, y_smote.values.ravel(), cv=kfold, scoring=scoring)\n",
    "    results.append(cv_results)\n",
    "    names.append(name)\n",
    "    msg = \"%s: %f (%f)\" % (name, cv_results.mean(), cv_results.std())\n",
    "    print(msg)\n",
    "# boxplot algorithm comparison\n",
    "fig = plt.figure()\n",
    "fig.suptitle('Algorithm Comparison')\n",
    "ax = fig.add_subplot(111)\n",
    "plt.boxplot(results)\n",
    "ax.set_xticklabels(names)\n",
    "plt.show()"
   ]
  },
  {
   "cell_type": "code",
   "execution_count": 181,
   "metadata": {},
   "outputs": [],
   "source": [
    "#BORDA COUNT VOTING APPROACH\n",
    "from sklearn.metrics import f1_score\n",
    "def BC(m):\n",
    "    RESULT={}\n",
    "    res=[]\n",
    "    for name,model in m:\n",
    "        RESULT[name]=0\n",
    "        T=[]\n",
    "        test_roc  = roc_auc_score(y_test, model.predict(X_test))\n",
    "        T.append(test_roc)\n",
    "        \n",
    "        test_accuracy  = accuracy_score(y_test, model.predict(X_test))\n",
    "        T.append(test_accuracy)\n",
    "        test_precision  = precision_score(y_test, model.predict(X_test))\n",
    "        T.append(test_precision)\n",
    "        test_recall  = recall_score(y_test, model.predict(X_test))\n",
    "        T.append(test_recall)\n",
    "        fscore=f1_score(y_test, model.predict(X_test), average='macro')\n",
    "        T.append(fscore)\n",
    "        res.append(T)\n",
    "    res=np.array(res)\n",
    "    for j in range(5):\n",
    "        temp=res[:,j]\n",
    "        sor=temp.copy()\n",
    "        sor.sort()\n",
    "        sor=sor[::-1]\n",
    "        gain=100\n",
    "        for e in sor:\n",
    "            RESULT[list(RESULT.keys())[list(temp).index(e)]]+=gain\n",
    "            gain-=10\n",
    "    return {k: v for k, v in sorted(RESULT.items(), key=lambda item: item[1],reverse=True)}\n",
    "            \n",
    "            \n",
    "        \n",
    "        "
   ]
  },
  {
   "cell_type": "code",
   "execution_count": 182,
   "metadata": {},
   "outputs": [],
   "source": [
    "models = []\n",
    "models.append(('MLP', mlp))\n",
    "models.append(('KNN', knn))\n",
    "models.append(('decision tree',dt))\n",
    "models.append(('logistic',lr))\n",
    "models.append(('xgboost',xgb))\n",
    "models.append(('SVM',sv))\n"
   ]
  },
  {
   "cell_type": "code",
   "execution_count": 183,
   "metadata": {},
   "outputs": [
    {
     "data": {
      "text/plain": [
       "{'xgboost': 480,\n",
       " 'KNN': 450,\n",
       " 'decision tree': 390,\n",
       " 'MLP': 350,\n",
       " 'SVM': 310,\n",
       " 'logistic': 270}"
      ]
     },
     "execution_count": 183,
     "metadata": {},
     "output_type": "execute_result"
    }
   ],
   "source": [
    "BC(models)"
   ]
  }
 ],
 "metadata": {
  "colab": {
   "collapsed_sections": [],
   "name": "1st_model.ipynb",
   "provenance": []
  },
  "kernelspec": {
   "display_name": "Python 3",
   "language": "python",
   "name": "python3"
  },
  "language_info": {
   "codemirror_mode": {
    "name": "ipython",
    "version": 3
   },
   "file_extension": ".py",
   "mimetype": "text/x-python",
   "name": "python",
   "nbconvert_exporter": "python",
   "pygments_lexer": "ipython3",
   "version": "3.7.6"
  }
 },
 "nbformat": 4,
 "nbformat_minor": 1
}
