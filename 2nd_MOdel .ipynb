{
 "cells": [
  {
   "cell_type": "code",
   "execution_count": null,
   "metadata": {
    "colab": {
     "base_uri": "https://localhost:8080/",
     "height": 52
    },
    "id": "zCknKg3sxE6m",
    "outputId": "d4f255fa-10c6-479c-bbdf-71312de493f9"
   },
   "outputs": [],
   "source": [
    "import pandas as pd\n",
    "import numpy as np\n",
    "import seaborn as sns\n",
    "import matplotlib.pyplot as plt\n",
    "plt.figure(figsize=(15,5))"
   ]
  },
  {
   "cell_type": "code",
   "execution_count": null,
   "metadata": {},
   "outputs": [],
   "source": [
    "import sys  \n",
    "sys.path.insert(0, '/home/etd/Desktop/Bank-Marketing-Campaign-Subscriptions')\n",
    "import data_cleaning as dc"
   ]
  },
  {
   "cell_type": "code",
   "execution_count": null,
   "metadata": {
    "id": "0svd1VDhxhS0"
   },
   "outputs": [],
   "source": [
    "df=pd.read_csv('Bank_Campaign.csv', sep=';')"
   ]
  },
  {
   "cell_type": "markdown",
   "metadata": {},
   "source": [
    "# PREPROCESSING"
   ]
  },
  {
   "cell_type": "code",
   "execution_count": null,
   "metadata": {
    "id": "M3BgCdxvyFRz"
   },
   "outputs": [],
   "source": [
    "df=dc.replaceWNAN(df,['unknown','nonexistent'])"
   ]
  },
  {
   "cell_type": "code",
   "execution_count": null,
   "metadata": {
    "colab": {
     "base_uri": "https://localhost:8080/"
    },
    "id": "CSGrPM5Syf8V",
    "outputId": "687d8972-7d6e-44ad-e0b8-f6cd12a3bea2"
   },
   "outputs": [],
   "source": [
    "df.isna().sum()"
   ]
  },
  {
   "cell_type": "code",
   "execution_count": null,
   "metadata": {},
   "outputs": [],
   "source": [
    "df.shape"
   ]
  },
  {
   "cell_type": "code",
   "execution_count": null,
   "metadata": {},
   "outputs": [],
   "source": [
    "df['subscribed'].value_counts().plot(kind='bar')\n",
    "YES, NON = df['subscribed'].value_counts()\n",
    "print('Number of yes ',YES/(YES+NON)*100,'%')\n",
    "print('Number of no : ',NON/(NON+YES)*100,'%')"
   ]
  },
  {
   "cell_type": "code",
   "execution_count": null,
   "metadata": {
    "id": "rWTg5xfmzl_L"
   },
   "outputs": [],
   "source": [
    "#delete rows from a feature with at most 1731\n",
    "df.drop(df[df['job'].isna()].index, inplace = True)\n",
    "df.drop(df[df['marital'].isna()].index, inplace = True)\n",
    "df.drop(df[df['education'].isna()].index, inplace = True)\n",
    "df.drop(df[df['housing'].isna()].index, inplace = True)\n",
    "df.drop(df[df['loan'].isna()].index, inplace = True)\n",
    "df.drop('poutcome',axis=1,inplace=True)\n",
    "df.drop('month',axis=1,inplace=True)\n",
    "df.drop('day_of_week',axis=1,inplace=True)"
   ]
  },
  {
   "cell_type": "code",
   "execution_count": null,
   "metadata": {
    "id": "7_6lO8mX0WD4"
   },
   "outputs": [],
   "source": [
    "df=df.replace('yes',1)\n",
    "df=df.replace('no',0)\n",
    "df=df.replace('cellular',1)\n",
    "df=df.replace('telephone',0)\n",
    "#df=df.replace('success',1)\n",
    "#df=df.replace('failure',0)\n",
    "#extract categorical and numerical features\n",
    "cat_col,num_col=dc.extract_features_type(df)"
   ]
  },
  {
   "cell_type": "code",
   "execution_count": null,
   "metadata": {
    "id": "V85cLCihCX7m"
   },
   "outputs": [],
   "source": [
    "#categorical features encoding\n",
    "## Nominal data -- onehot\n",
    "## Ordinal data -- labelencoder"
   ]
  },
  {
   "cell_type": "code",
   "execution_count": null,
   "metadata": {
    "id": "UaZmBScLmfKU"
   },
   "outputs": [],
   "source": [
    "# one hot encoding categorical variables\n",
    "cat_col.remove('education')\n",
    "df=dc.one_hot_encoding(df,cat_col)"
   ]
  },
  {
   "cell_type": "code",
   "execution_count": null,
   "metadata": {},
   "outputs": [],
   "source": [
    "from sklearn.preprocessing import LabelEncoder\n",
    "education_level={'illiterate':0,'basic.4y':1, 'basic.6y':2,'basic.9y':3, 'high.school':4,'professional.course':5, 'university.degree':6}\n",
    "df.education.replace(education_level,inplace=True)"
   ]
  },
  {
   "cell_type": "code",
   "execution_count": null,
   "metadata": {},
   "outputs": [],
   "source": [
    "df=dc.knn_imput(df,5)"
   ]
  },
  {
   "cell_type": "code",
   "execution_count": null,
   "metadata": {
    "id": "3VkRIkNPwOxM"
   },
   "outputs": [],
   "source": [
    "# handling outliers"
   ]
  },
  {
   "cell_type": "code",
   "execution_count": null,
   "metadata": {
    "id": "BIAFY41tmg9t"
   },
   "outputs": [],
   "source": [
    "def plot(df,col):\n",
    "    fig,(ax1,ax2)=plt.subplots(2,1)\n",
    "    sns.distplot(df[col],ax=ax1)\n",
    "    sns.boxplot(df[col],ax=ax2)"
   ]
  },
  {
   "cell_type": "code",
   "execution_count": null,
   "metadata": {
    "colab": {
     "base_uri": "https://localhost:8080/",
     "height": 369
    },
    "id": "OPc42A1dmi2p",
    "outputId": "074a7531-e563-4440-d4a3-c6f18e935391"
   },
   "outputs": [],
   "source": [
    "plot(df,'age') "
   ]
  },
  {
   "cell_type": "code",
   "execution_count": null,
   "metadata": {
    "id": "PCwRYRtgxK9S"
   },
   "outputs": [],
   "source": [
    "df.drop(df[df['age'] > 90].index, inplace = True)\n",
    "df.drop(df[df['duration']>3000].index, inplace = True)\n",
    "df.drop(df[df['campaign']>20].index, inplace = True)\n",
    "df.drop(df[df['previous']>6].index, inplace = True)"
   ]
  },
  {
   "cell_type": "code",
   "execution_count": null,
   "metadata": {},
   "outputs": [],
   "source": [
    "df.to_csv (r'clean_DS.csv', index = False, header=True)"
   ]
  },
  {
   "cell_type": "markdown",
   "metadata": {},
   "source": [
    "# DATA NORMALISATION"
   ]
  },
  {
   "cell_type": "code",
   "execution_count": 1,
   "metadata": {},
   "outputs": [],
   "source": [
    "import sys  \n",
    "sys.path.insert(0, '/home/etd/Desktop/Bank-Marketing-Campaign-Subscriptions')\n",
    "import data_cleaning as dc\n",
    "\n",
    "sys.path.insert(0, '/home/etd/Desktop/Bank-Marketing-Campaign-Subscriptions')\n",
    "import data_reduction as dr\n",
    "\n",
    "sys.path.insert(0, '/home/etd/Desktop/Bank-Marketing-Campaign-Subscriptions')\n",
    "import data_classification as dc\n",
    "\n",
    "import pandas as pd\n",
    "df=pd.read_csv('clean_DS.csv')"
   ]
  },
  {
   "cell_type": "code",
   "execution_count": 2,
   "metadata": {},
   "outputs": [],
   "source": [
    "from sklearn.preprocessing import MinMaxScaler\n",
    "scaler = MinMaxScaler(feature_range=(0, 1))\n",
    "df = pd.DataFrame(scaler.fit_transform(df), columns=df.columns)"
   ]
  },
  {
   "cell_type": "markdown",
   "metadata": {},
   "source": [
    "# FEATURE SELECTION"
   ]
  },
  {
   "cell_type": "code",
   "execution_count": 3,
   "metadata": {},
   "outputs": [],
   "source": [
    "#create X matrix and y vector\n",
    "y = df['subscribed']\n",
    "df.drop('subscribed',axis=1,inplace=True)\n",
    "X=df"
   ]
  },
  {
   "cell_type": "code",
   "execution_count": 4,
   "metadata": {},
   "outputs": [],
   "source": [
    "anova_subset=dr.ANOVA(df,X,y)"
   ]
  },
  {
   "cell_type": "code",
   "execution_count": 5,
   "metadata": {},
   "outputs": [],
   "source": [
    "rf_subset=dr.RF(X,y)"
   ]
  },
  {
   "cell_type": "code",
   "execution_count": 6,
   "metadata": {
    "id": "oCDvmQT2EJ3L"
   },
   "outputs": [],
   "source": [
    "mi_subset=dr.MI(X,y,27)"
   ]
  },
  {
   "cell_type": "code",
   "execution_count": 7,
   "metadata": {},
   "outputs": [
    {
     "data": {
      "text/plain": [
       "['duration',\n",
       " 'nr.employed',\n",
       " 'pdays',\n",
       " 'euribor3m',\n",
       " 'emp.var.rate',\n",
       " 'previous',\n",
       " 'contact',\n",
       " 'cons.price.idx',\n",
       " 'student',\n",
       " 'retired',\n",
       " 'blue-collar',\n",
       " 'education',\n",
       " 'single',\n",
       " 'campaign',\n",
       " 'married',\n",
       " 'cons.conf.idx',\n",
       " 'services',\n",
       " 'loan',\n",
       " 'housemaid',\n",
       " 'housing',\n",
       " 'entrepreneur',\n",
       " 'management',\n",
       " 'age',\n",
       " 'technician',\n",
       " 'default',\n",
       " 'unemployed',\n",
       " 'self-employed']"
      ]
     },
     "execution_count": 7,
     "metadata": {},
     "output_type": "execute_result"
    }
   ],
   "source": [
    "anova_subset"
   ]
  },
  {
   "cell_type": "code",
   "execution_count": 8,
   "metadata": {},
   "outputs": [
    {
     "data": {
      "text/plain": [
       "Index(['age', 'education', 'duration', 'campaign', 'pdays', 'euribor3m',\n",
       "       'nr.employed'],\n",
       "      dtype='object')"
      ]
     },
     "execution_count": 8,
     "metadata": {},
     "output_type": "execute_result"
    }
   ],
   "source": [
    "rf_subset"
   ]
  },
  {
   "cell_type": "code",
   "execution_count": 9,
   "metadata": {},
   "outputs": [
    {
     "data": {
      "text/plain": [
       "Index(['duration', 'euribor3m', 'cons.conf.idx', 'cons.price.idx',\n",
       "       'nr.employed', 'emp.var.rate', 'pdays', 'previous', 'contact', 'age',\n",
       "       'student', 'married', 'campaign', 'housemaid', 'blue-collar',\n",
       "       'education', 'default', 'housing', 'retired', 'technician', 'services',\n",
       "       'self-employed', 'single', 'entrepreneur', 'unemployed', 'loan',\n",
       "       'management'],\n",
       "      dtype='object')"
      ]
     },
     "execution_count": 9,
     "metadata": {},
     "output_type": "execute_result"
    }
   ],
   "source": [
    "mi_subset"
   ]
  },
  {
   "cell_type": "code",
   "execution_count": 10,
   "metadata": {},
   "outputs": [],
   "source": [
    "def inter(a,b,c):\n",
    "    return list(set(a) & (set(b) | set(c)))"
   ]
  },
  {
   "cell_type": "code",
   "execution_count": 11,
   "metadata": {},
   "outputs": [],
   "source": [
    "#intersection de tous les subsets\n",
    "inters=inter(anova_subset[:14],rf_subset,mi_subset[:14])"
   ]
  },
  {
   "cell_type": "markdown",
   "metadata": {},
   "source": [
    "# DATA BALANCING"
   ]
  },
  {
   "cell_type": "code",
   "execution_count": 12,
   "metadata": {},
   "outputs": [],
   "source": [
    "from imblearn.over_sampling import SMOTE\n",
    "smote = SMOTE()\n",
    "y = y.to_frame()\n",
    "x_smote, y_smote = smote.fit_resample(df[inters], y)\n",
    "x_smote = pd.DataFrame(x_smote,columns=df[inters].columns)\n",
    "y_smote = pd.DataFrame(y_smote,columns=y.columns)\n",
    "data_SMOTE = pd.concat([x_smote, y_smote], axis=1)"
   ]
  },
  {
   "cell_type": "code",
   "execution_count": 13,
   "metadata": {},
   "outputs": [
    {
     "name": "stdout",
     "output_type": "stream",
     "text": [
      "Number of yes  50.0 %\n",
      "Number of no :  50.0 %\n"
     ]
    },
    {
     "data": {
      "image/png": "[encoded data removed]",
      "text/plain": [
       "<Figure size 432x288 with 1 Axes>"
      ]
     },
     "metadata": {
      "needs_background": "light"
     },
     "output_type": "display_data"
    }
   ],
   "source": [
    "data_SMOTE['subscribed'].value_counts().plot(kind='bar')\n",
    "YES, NON = data_SMOTE['subscribed'].value_counts()\n",
    "print('Number of yes ',YES/(YES+NON)*100,'%')\n",
    "print('Number of no : ',NON/(NON+YES)*100,'%')"
   ]
  },
  {
   "cell_type": "markdown",
   "metadata": {},
   "source": [
    "# CLASSIFICATION"
   ]
  },
  {
   "cell_type": "code",
   "execution_count": 14,
   "metadata": {},
   "outputs": [],
   "source": [
    "from sklearn.model_selection import train_test_split\n",
    "X_train, X_test, y_train, y_test =train_test_split(x_smote,y_smote,train_size=0.75, random_state=0) "
   ]
  },
  {
   "cell_type": "code",
   "execution_count": 19,
   "metadata": {},
   "outputs": [
    {
     "name": "stderr",
     "output_type": "stream",
     "text": [
      "/home/etd/anaconda3/lib/python3.8/site-packages/sklearn/neighbors/_classification.py:179: DataConversionWarning: A column-vector y was passed when a 1d array was expected. Please change the shape of y to (n_samples,), for example using ravel().\n",
      "  return self._fit(X, y)\n"
     ]
    }
   ],
   "source": [
    "knn=dc.knn(X_train,y_train,5)"
   ]
  },
  {
   "cell_type": "code",
   "execution_count": 20,
   "metadata": {},
   "outputs": [
    {
     "name": "stdout",
     "output_type": "stream",
     "text": [
      "0.9107786909477916\n"
     ]
    }
   ],
   "source": [
    "score=knn.score(X_test,y_test)\n",
    "\n",
    "print(score)"
   ]
  },
  {
   "cell_type": "code",
   "execution_count": null,
   "metadata": {},
   "outputs": [],
   "source": [
    "models = []\n",
    "models.append(('MLP', MLPClassifier(solver='adam',hidden_layer_sizes=(8,7,7),activation='relu',batch_size=32, max_iter=300)))\n",
    "models.append(('KNN', KNeighborsClassifier()))\n",
    "models.append(('decision tree', DecisionTreeClassifier()))\n",
    "models.append(('logistic',LogisticRegression(C=10e10)))"
   ]
  }
 ],
 "metadata": {
  "colab": {
   "collapsed_sections": [],
   "name": "1st_model.ipynb",
   "provenance": []
  },
  "kernelspec": {
   "display_name": "Python 3",
   "language": "python",
   "name": "python3"
  },
  "language_info": {
   "codemirror_mode": {
    "name": "ipython",
    "version": 3
   },
   "file_extension": ".py",
   "mimetype": "text/x-python",
   "name": "python",
   "nbconvert_exporter": "python",
   "pygments_lexer": "ipython3",
   "version": "3.8.5"
  }
 },
 "nbformat": 4,
 "nbformat_minor": 1
}
